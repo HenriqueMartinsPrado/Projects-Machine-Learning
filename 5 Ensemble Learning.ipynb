{
 "cells": [
  {
   "cell_type": "markdown",
   "metadata": {},
   "source": [
    "<h1>Ensemble Learning (Uso de mais de um classificador)\n",
    "<h1>Random Forest: Gera várias árvores de decisão e utiliza as respostas destas árvores para tomar uma decisão"
   ]
  },
  {
   "cell_type": "markdown",
   "metadata": {},
   "source": [
    "<h3>Ajustando a largura do meu jupyter notebook"
   ]
  },
  {
   "cell_type": "code",
   "execution_count": 1,
   "metadata": {},
   "outputs": [
    {
     "data": {
      "text/html": [
       "<style>.container {width:90% !important;}</style>"
      ],
      "text/plain": [
       "<IPython.core.display.HTML object>"
      ]
     },
     "metadata": {},
     "output_type": "display_data"
    }
   ],
   "source": [
    "from IPython.core.display import display, HTML \n",
    "display(HTML(\"<style>.container {width:90% !important;}</style>\"))"
   ]
  },
  {
   "cell_type": "markdown",
   "metadata": {},
   "source": [
    "<h3>Importando as bibliotecas"
   ]
  },
  {
   "cell_type": "code",
   "execution_count": 2,
   "metadata": {},
   "outputs": [
    {
     "name": "stderr",
     "output_type": "stream",
     "text": [
      "c:\\users\\hik_m\\appdata\\local\\programs\\python\\python38\\lib\\site-packages\\sklearn\\utils\\deprecation.py:143: FutureWarning: The sklearn.metrics.classification module is  deprecated in version 0.22 and will be removed in version 0.24. The corresponding classes / functions should instead be imported from sklearn.metrics. Anything that cannot be imported from sklearn.metrics is now part of the private API.\n",
      "  warnings.warn(message, FutureWarning)\n"
     ]
    }
   ],
   "source": [
    "import pandas as pd\n",
    "from sklearn.model_selection import train_test_split\n",
    "from sklearn.preprocessing import LabelEncoder\n",
    "from sklearn.metrics import confusion_matrix, accuracy_score\n",
    "from sklearn.ensemble import RandomForestClassifier\n",
    "from yellowbrick.classifier import ConfusionMatrix\n",
    "import graphviz\n",
    "from sklearn.tree import export_graphviz"
   ]
  },
  {
   "cell_type": "markdown",
   "metadata": {},
   "source": [
    "<h3>Carregando os dados"
   ]
  },
  {
   "cell_type": "code",
   "execution_count": 4,
   "metadata": {},
   "outputs": [
    {
     "data": {
      "text/html": [
       "<div>\n",
       "<style scoped>\n",
       "    .dataframe tbody tr th:only-of-type {\n",
       "        vertical-align: middle;\n",
       "    }\n",
       "\n",
       "    .dataframe tbody tr th {\n",
       "        vertical-align: top;\n",
       "    }\n",
       "\n",
       "    .dataframe thead th {\n",
       "        text-align: right;\n",
       "    }\n",
       "</style>\n",
       "<table border=\"1\" class=\"dataframe\">\n",
       "  <thead>\n",
       "    <tr style=\"text-align: right;\">\n",
       "      <th></th>\n",
       "      <th>checking_status</th>\n",
       "      <th>duration</th>\n",
       "      <th>credit_history</th>\n",
       "      <th>purpose</th>\n",
       "      <th>credit_amount</th>\n",
       "      <th>savings_status</th>\n",
       "      <th>employment</th>\n",
       "      <th>installment_commitment</th>\n",
       "      <th>personal_status</th>\n",
       "      <th>other_parties</th>\n",
       "      <th>...</th>\n",
       "      <th>property_magnitude</th>\n",
       "      <th>age</th>\n",
       "      <th>other_payment_plans</th>\n",
       "      <th>housing</th>\n",
       "      <th>existing_credits</th>\n",
       "      <th>job</th>\n",
       "      <th>num_dependents</th>\n",
       "      <th>own_telephone</th>\n",
       "      <th>foreign_worker</th>\n",
       "      <th>class</th>\n",
       "    </tr>\n",
       "  </thead>\n",
       "  <tbody>\n",
       "    <tr>\n",
       "      <th>0</th>\n",
       "      <td>&lt;0</td>\n",
       "      <td>6</td>\n",
       "      <td>'critical/other existing credit'</td>\n",
       "      <td>radio/tv</td>\n",
       "      <td>1169</td>\n",
       "      <td>'no known savings'</td>\n",
       "      <td>&gt;=7</td>\n",
       "      <td>4</td>\n",
       "      <td>'male single'</td>\n",
       "      <td>none</td>\n",
       "      <td>...</td>\n",
       "      <td>'real estate'</td>\n",
       "      <td>67</td>\n",
       "      <td>none</td>\n",
       "      <td>own</td>\n",
       "      <td>2</td>\n",
       "      <td>skilled</td>\n",
       "      <td>1</td>\n",
       "      <td>yes</td>\n",
       "      <td>yes</td>\n",
       "      <td>good</td>\n",
       "    </tr>\n",
       "    <tr>\n",
       "      <th>1</th>\n",
       "      <td>0&lt;=X&lt;200</td>\n",
       "      <td>48</td>\n",
       "      <td>'existing paid'</td>\n",
       "      <td>radio/tv</td>\n",
       "      <td>5951</td>\n",
       "      <td>&lt;100</td>\n",
       "      <td>1&lt;=X&lt;4</td>\n",
       "      <td>2</td>\n",
       "      <td>'female div/dep/mar'</td>\n",
       "      <td>none</td>\n",
       "      <td>...</td>\n",
       "      <td>'real estate'</td>\n",
       "      <td>22</td>\n",
       "      <td>none</td>\n",
       "      <td>own</td>\n",
       "      <td>1</td>\n",
       "      <td>skilled</td>\n",
       "      <td>1</td>\n",
       "      <td>none</td>\n",
       "      <td>yes</td>\n",
       "      <td>bad</td>\n",
       "    </tr>\n",
       "    <tr>\n",
       "      <th>2</th>\n",
       "      <td>'no checking'</td>\n",
       "      <td>12</td>\n",
       "      <td>'critical/other existing credit'</td>\n",
       "      <td>education</td>\n",
       "      <td>2096</td>\n",
       "      <td>&lt;100</td>\n",
       "      <td>4&lt;=X&lt;7</td>\n",
       "      <td>2</td>\n",
       "      <td>'male single'</td>\n",
       "      <td>none</td>\n",
       "      <td>...</td>\n",
       "      <td>'real estate'</td>\n",
       "      <td>49</td>\n",
       "      <td>none</td>\n",
       "      <td>own</td>\n",
       "      <td>1</td>\n",
       "      <td>'unskilled resident'</td>\n",
       "      <td>2</td>\n",
       "      <td>none</td>\n",
       "      <td>yes</td>\n",
       "      <td>good</td>\n",
       "    </tr>\n",
       "    <tr>\n",
       "      <th>3</th>\n",
       "      <td>&lt;0</td>\n",
       "      <td>42</td>\n",
       "      <td>'existing paid'</td>\n",
       "      <td>furniture/equipment</td>\n",
       "      <td>7882</td>\n",
       "      <td>&lt;100</td>\n",
       "      <td>4&lt;=X&lt;7</td>\n",
       "      <td>2</td>\n",
       "      <td>'male single'</td>\n",
       "      <td>guarantor</td>\n",
       "      <td>...</td>\n",
       "      <td>'life insurance'</td>\n",
       "      <td>45</td>\n",
       "      <td>none</td>\n",
       "      <td>'for free'</td>\n",
       "      <td>1</td>\n",
       "      <td>skilled</td>\n",
       "      <td>2</td>\n",
       "      <td>none</td>\n",
       "      <td>yes</td>\n",
       "      <td>good</td>\n",
       "    </tr>\n",
       "    <tr>\n",
       "      <th>4</th>\n",
       "      <td>&lt;0</td>\n",
       "      <td>24</td>\n",
       "      <td>'delayed previously'</td>\n",
       "      <td>'new car'</td>\n",
       "      <td>4870</td>\n",
       "      <td>&lt;100</td>\n",
       "      <td>1&lt;=X&lt;4</td>\n",
       "      <td>3</td>\n",
       "      <td>'male single'</td>\n",
       "      <td>none</td>\n",
       "      <td>...</td>\n",
       "      <td>'no known property'</td>\n",
       "      <td>53</td>\n",
       "      <td>none</td>\n",
       "      <td>'for free'</td>\n",
       "      <td>2</td>\n",
       "      <td>skilled</td>\n",
       "      <td>2</td>\n",
       "      <td>none</td>\n",
       "      <td>yes</td>\n",
       "      <td>bad</td>\n",
       "    </tr>\n",
       "    <tr>\n",
       "      <th>...</th>\n",
       "      <td>...</td>\n",
       "      <td>...</td>\n",
       "      <td>...</td>\n",
       "      <td>...</td>\n",
       "      <td>...</td>\n",
       "      <td>...</td>\n",
       "      <td>...</td>\n",
       "      <td>...</td>\n",
       "      <td>...</td>\n",
       "      <td>...</td>\n",
       "      <td>...</td>\n",
       "      <td>...</td>\n",
       "      <td>...</td>\n",
       "      <td>...</td>\n",
       "      <td>...</td>\n",
       "      <td>...</td>\n",
       "      <td>...</td>\n",
       "      <td>...</td>\n",
       "      <td>...</td>\n",
       "      <td>...</td>\n",
       "      <td>...</td>\n",
       "    </tr>\n",
       "    <tr>\n",
       "      <th>995</th>\n",
       "      <td>'no checking'</td>\n",
       "      <td>12</td>\n",
       "      <td>'existing paid'</td>\n",
       "      <td>furniture/equipment</td>\n",
       "      <td>1736</td>\n",
       "      <td>&lt;100</td>\n",
       "      <td>4&lt;=X&lt;7</td>\n",
       "      <td>3</td>\n",
       "      <td>'female div/dep/mar'</td>\n",
       "      <td>none</td>\n",
       "      <td>...</td>\n",
       "      <td>'real estate'</td>\n",
       "      <td>31</td>\n",
       "      <td>none</td>\n",
       "      <td>own</td>\n",
       "      <td>1</td>\n",
       "      <td>'unskilled resident'</td>\n",
       "      <td>1</td>\n",
       "      <td>none</td>\n",
       "      <td>yes</td>\n",
       "      <td>good</td>\n",
       "    </tr>\n",
       "    <tr>\n",
       "      <th>996</th>\n",
       "      <td>&lt;0</td>\n",
       "      <td>30</td>\n",
       "      <td>'existing paid'</td>\n",
       "      <td>'used car'</td>\n",
       "      <td>3857</td>\n",
       "      <td>&lt;100</td>\n",
       "      <td>1&lt;=X&lt;4</td>\n",
       "      <td>4</td>\n",
       "      <td>'male div/sep'</td>\n",
       "      <td>none</td>\n",
       "      <td>...</td>\n",
       "      <td>'life insurance'</td>\n",
       "      <td>40</td>\n",
       "      <td>none</td>\n",
       "      <td>own</td>\n",
       "      <td>1</td>\n",
       "      <td>'high qualif/self emp/mgmt'</td>\n",
       "      <td>1</td>\n",
       "      <td>yes</td>\n",
       "      <td>yes</td>\n",
       "      <td>good</td>\n",
       "    </tr>\n",
       "    <tr>\n",
       "      <th>997</th>\n",
       "      <td>'no checking'</td>\n",
       "      <td>12</td>\n",
       "      <td>'existing paid'</td>\n",
       "      <td>radio/tv</td>\n",
       "      <td>804</td>\n",
       "      <td>&lt;100</td>\n",
       "      <td>&gt;=7</td>\n",
       "      <td>4</td>\n",
       "      <td>'male single'</td>\n",
       "      <td>none</td>\n",
       "      <td>...</td>\n",
       "      <td>car</td>\n",
       "      <td>38</td>\n",
       "      <td>none</td>\n",
       "      <td>own</td>\n",
       "      <td>1</td>\n",
       "      <td>skilled</td>\n",
       "      <td>1</td>\n",
       "      <td>none</td>\n",
       "      <td>yes</td>\n",
       "      <td>good</td>\n",
       "    </tr>\n",
       "    <tr>\n",
       "      <th>998</th>\n",
       "      <td>&lt;0</td>\n",
       "      <td>45</td>\n",
       "      <td>'existing paid'</td>\n",
       "      <td>radio/tv</td>\n",
       "      <td>1845</td>\n",
       "      <td>&lt;100</td>\n",
       "      <td>1&lt;=X&lt;4</td>\n",
       "      <td>4</td>\n",
       "      <td>'male single'</td>\n",
       "      <td>none</td>\n",
       "      <td>...</td>\n",
       "      <td>'no known property'</td>\n",
       "      <td>23</td>\n",
       "      <td>none</td>\n",
       "      <td>'for free'</td>\n",
       "      <td>1</td>\n",
       "      <td>skilled</td>\n",
       "      <td>1</td>\n",
       "      <td>yes</td>\n",
       "      <td>yes</td>\n",
       "      <td>bad</td>\n",
       "    </tr>\n",
       "    <tr>\n",
       "      <th>999</th>\n",
       "      <td>0&lt;=X&lt;200</td>\n",
       "      <td>45</td>\n",
       "      <td>'critical/other existing credit'</td>\n",
       "      <td>'used car'</td>\n",
       "      <td>4576</td>\n",
       "      <td>100&lt;=X&lt;500</td>\n",
       "      <td>unemployed</td>\n",
       "      <td>3</td>\n",
       "      <td>'male single'</td>\n",
       "      <td>none</td>\n",
       "      <td>...</td>\n",
       "      <td>car</td>\n",
       "      <td>27</td>\n",
       "      <td>none</td>\n",
       "      <td>own</td>\n",
       "      <td>1</td>\n",
       "      <td>skilled</td>\n",
       "      <td>1</td>\n",
       "      <td>none</td>\n",
       "      <td>yes</td>\n",
       "      <td>good</td>\n",
       "    </tr>\n",
       "  </tbody>\n",
       "</table>\n",
       "<p>1000 rows × 21 columns</p>\n",
       "</div>"
      ],
      "text/plain": [
       "    checking_status  duration                    credit_history  \\\n",
       "0                <0         6  'critical/other existing credit'   \n",
       "1          0<=X<200        48                   'existing paid'   \n",
       "2     'no checking'        12  'critical/other existing credit'   \n",
       "3                <0        42                   'existing paid'   \n",
       "4                <0        24              'delayed previously'   \n",
       "..              ...       ...                               ...   \n",
       "995   'no checking'        12                   'existing paid'   \n",
       "996              <0        30                   'existing paid'   \n",
       "997   'no checking'        12                   'existing paid'   \n",
       "998              <0        45                   'existing paid'   \n",
       "999        0<=X<200        45  'critical/other existing credit'   \n",
       "\n",
       "                 purpose  credit_amount      savings_status  employment  \\\n",
       "0               radio/tv           1169  'no known savings'         >=7   \n",
       "1               radio/tv           5951                <100      1<=X<4   \n",
       "2              education           2096                <100      4<=X<7   \n",
       "3    furniture/equipment           7882                <100      4<=X<7   \n",
       "4              'new car'           4870                <100      1<=X<4   \n",
       "..                   ...            ...                 ...         ...   \n",
       "995  furniture/equipment           1736                <100      4<=X<7   \n",
       "996           'used car'           3857                <100      1<=X<4   \n",
       "997             radio/tv            804                <100         >=7   \n",
       "998             radio/tv           1845                <100      1<=X<4   \n",
       "999           'used car'           4576          100<=X<500  unemployed   \n",
       "\n",
       "     installment_commitment       personal_status other_parties  ...  \\\n",
       "0                         4         'male single'          none  ...   \n",
       "1                         2  'female div/dep/mar'          none  ...   \n",
       "2                         2         'male single'          none  ...   \n",
       "3                         2         'male single'     guarantor  ...   \n",
       "4                         3         'male single'          none  ...   \n",
       "..                      ...                   ...           ...  ...   \n",
       "995                       3  'female div/dep/mar'          none  ...   \n",
       "996                       4        'male div/sep'          none  ...   \n",
       "997                       4         'male single'          none  ...   \n",
       "998                       4         'male single'          none  ...   \n",
       "999                       3         'male single'          none  ...   \n",
       "\n",
       "      property_magnitude age  other_payment_plans     housing  \\\n",
       "0          'real estate'  67                 none         own   \n",
       "1          'real estate'  22                 none         own   \n",
       "2          'real estate'  49                 none         own   \n",
       "3       'life insurance'  45                 none  'for free'   \n",
       "4    'no known property'  53                 none  'for free'   \n",
       "..                   ...  ..                  ...         ...   \n",
       "995        'real estate'  31                 none         own   \n",
       "996     'life insurance'  40                 none         own   \n",
       "997                  car  38                 none         own   \n",
       "998  'no known property'  23                 none  'for free'   \n",
       "999                  car  27                 none         own   \n",
       "\n",
       "    existing_credits                          job num_dependents  \\\n",
       "0                  2                      skilled              1   \n",
       "1                  1                      skilled              1   \n",
       "2                  1         'unskilled resident'              2   \n",
       "3                  1                      skilled              2   \n",
       "4                  2                      skilled              2   \n",
       "..               ...                          ...            ...   \n",
       "995                1         'unskilled resident'              1   \n",
       "996                1  'high qualif/self emp/mgmt'              1   \n",
       "997                1                      skilled              1   \n",
       "998                1                      skilled              1   \n",
       "999                1                      skilled              1   \n",
       "\n",
       "     own_telephone foreign_worker class  \n",
       "0              yes            yes  good  \n",
       "1             none            yes   bad  \n",
       "2             none            yes  good  \n",
       "3             none            yes  good  \n",
       "4             none            yes   bad  \n",
       "..             ...            ...   ...  \n",
       "995           none            yes  good  \n",
       "996            yes            yes  good  \n",
       "997           none            yes  good  \n",
       "998            yes            yes   bad  \n",
       "999           none            yes  good  \n",
       "\n",
       "[1000 rows x 21 columns]"
      ]
     },
     "execution_count": 4,
     "metadata": {},
     "output_type": "execute_result"
    }
   ],
   "source": [
    "credito = pd.read_csv(r'C:\\Users\\hik_m\\Documents\\Jornada do Conhecimento\\Udemy\\Formação Cientista de Dados\\Machine Learning\\Dados\\Credit.csv')\n",
    "credito"
   ]
  },
  {
   "cell_type": "markdown",
   "metadata": {},
   "source": [
    "<h3>Segregando variáveis independente ou preditoras da minha variável classe (dependente)"
   ]
  },
  {
   "cell_type": "code",
   "execution_count": 5,
   "metadata": {},
   "outputs": [],
   "source": [
    "previsores = credito.iloc[:, 0:20].values\n",
    "classe = credito.iloc[:, 20].values"
   ]
  },
  {
   "cell_type": "markdown",
   "metadata": {},
   "source": [
    "<h3>Transformação de dados"
   ]
  },
  {
   "cell_type": "code",
   "execution_count": 6,
   "metadata": {},
   "outputs": [
    {
     "data": {
      "text/plain": [
       "array([['<0', 6, \"'critical/other existing credit'\", ..., 1, 'yes',\n",
       "        'yes'],\n",
       "       ['0<=X<200', 48, \"'existing paid'\", ..., 1, 'none', 'yes'],\n",
       "       [\"'no checking'\", 12, \"'critical/other existing credit'\", ..., 2,\n",
       "        'none', 'yes'],\n",
       "       ...,\n",
       "       [\"'no checking'\", 12, \"'existing paid'\", ..., 1, 'none', 'yes'],\n",
       "       ['<0', 45, \"'existing paid'\", ..., 1, 'yes', 'yes'],\n",
       "       ['0<=X<200', 45, \"'critical/other existing credit'\", ..., 1,\n",
       "        'none', 'yes']], dtype=object)"
      ]
     },
     "execution_count": 6,
     "metadata": {},
     "output_type": "execute_result"
    }
   ],
   "source": [
    "#Verificação das infomrações antes das transformações\n",
    "previsores"
   ]
  },
  {
   "cell_type": "code",
   "execution_count": 7,
   "metadata": {},
   "outputs": [],
   "source": [
    "#Criando o objeto de transformação\n",
    "labelencoder = LabelEncoder()\n",
    "\n",
    "previsores[:, 0] = labelencoder.fit_transform(previsores[:, 0])\n",
    "previsores[:, 2] = labelencoder.fit_transform(previsores[:, 2])\n",
    "previsores[:, 3] = labelencoder.fit_transform(previsores[:, 3])\n",
    "previsores[:, 5] = labelencoder.fit_transform(previsores[:, 5])\n",
    "previsores[:, 6] = labelencoder.fit_transform(previsores[:, 6])\n",
    "previsores[:, 8] = labelencoder.fit_transform(previsores[:, 8])\n",
    "previsores[:, 9] = labelencoder.fit_transform(previsores[:, 9])\n",
    "previsores[:, 11] = labelencoder.fit_transform(previsores[:, 11])\n",
    "previsores[:, 13] = labelencoder.fit_transform(previsores[:, 13])\n",
    "previsores[:, 14] = labelencoder.fit_transform(previsores[:, 14])\n",
    "previsores[:, 16] = labelencoder.fit_transform(previsores[:, 16])\n",
    "previsores[:, 18] = labelencoder.fit_transform(previsores[:, 18])\n",
    "previsores[:, 19] = labelencoder.fit_transform(previsores[:, 19])"
   ]
  },
  {
   "cell_type": "code",
   "execution_count": 8,
   "metadata": {},
   "outputs": [
    {
     "data": {
      "text/plain": [
       "array([[2, 6, 1, ..., 1, 1, 1],\n",
       "       [1, 48, 3, ..., 1, 0, 1],\n",
       "       [0, 12, 1, ..., 2, 0, 1],\n",
       "       ...,\n",
       "       [0, 12, 3, ..., 1, 0, 1],\n",
       "       [2, 45, 3, ..., 1, 1, 1],\n",
       "       [1, 45, 1, ..., 1, 0, 1]], dtype=object)"
      ]
     },
     "execution_count": 8,
     "metadata": {},
     "output_type": "execute_result"
    }
   ],
   "source": [
    "#Verificação das informações após transformações\n",
    "previsores"
   ]
  },
  {
   "cell_type": "markdown",
   "metadata": {},
   "source": [
    "<h3>Segregando meus dados entre dados de treino e teste"
   ]
  },
  {
   "cell_type": "code",
   "execution_count": 17,
   "metadata": {},
   "outputs": [],
   "source": [
    "X_treinamento, X_teste, y_treinamento, y_teste = train_test_split(previsores, classe, test_size = 0.3, random_state = 0)"
   ]
  },
  {
   "cell_type": "markdown",
   "metadata": {},
   "source": [
    "<h3>Criando meu modelo"
   ]
  },
  {
   "cell_type": "code",
   "execution_count": 18,
   "metadata": {},
   "outputs": [
    {
     "data": {
      "text/plain": [
       "RandomForestClassifier()"
      ]
     },
     "execution_count": 18,
     "metadata": {},
     "output_type": "execute_result"
    }
   ],
   "source": [
    "#Crio meu objeto no qual recebe o algoritmo\n",
    "floresta = RandomForestClassifier(n_estimators = 100)\n",
    "#Importante: O parâmetro n_estimator apresenta a quantidade de árvores que o meu modelo irá utilizar para classificar\n",
    "#se meu cliente é bom ou mal pagador. Assim, se a reposta de 60 árvores de decisão apontam que meu cliente é um bom pagador\n",
    "#contra 40 árvores de decisão que classificaram o mesmo como mal, o cliente será considerado um bom pagador\n",
    "\n",
    "#'Fito' meu modelo floresta com os dados de treinamento. \n",
    "floresta.fit(X_treinamento, y_treinamento)"
   ]
  },
  {
   "cell_type": "markdown",
   "metadata": {},
   "source": [
    "<h3>Previsões"
   ]
  },
  {
   "cell_type": "code",
   "execution_count": 19,
   "metadata": {},
   "outputs": [],
   "source": [
    "previsoes = floresta.predict(X_teste)"
   ]
  },
  {
   "cell_type": "markdown",
   "metadata": {},
   "source": [
    "<h3>Matrix de Confusão"
   ]
  },
  {
   "cell_type": "code",
   "execution_count": 20,
   "metadata": {},
   "outputs": [
    {
     "data": {
      "text/plain": [
       "array([[ 38,  48],\n",
       "       [ 17, 197]], dtype=int64)"
      ]
     },
     "execution_count": 20,
     "metadata": {},
     "output_type": "execute_result"
    }
   ],
   "source": [
    "confusao = confusion_matrix(y_teste, previsoes)\n",
    "confusao"
   ]
  },
  {
   "cell_type": "code",
   "execution_count": 21,
   "metadata": {},
   "outputs": [
    {
     "name": "stderr",
     "output_type": "stream",
     "text": [
      "c:\\users\\hik_m\\appdata\\local\\programs\\python\\python38\\lib\\site-packages\\sklearn\\base.py:209: FutureWarning: From version 0.24, get_params will raise an AttributeError if a parameter cannot be retrieved as an instance attribute. Previously it would return None.\n",
      "  warnings.warn('From version 0.24, get_params will raise an '\n"
     ]
    },
    {
     "data": {
      "image/png": "[encoded data removed]",
      "text/plain": [
       "<Figure size 576x396 with 1 Axes>"
      ]
     },
     "metadata": {},
     "output_type": "display_data"
    },
    {
     "data": {
      "text/plain": [
       "<matplotlib.axes._subplots.AxesSubplot at 0x212dd91f070>"
      ]
     },
     "execution_count": 21,
     "metadata": {},
     "output_type": "execute_result"
    }
   ],
   "source": [
    "from yellowbrick.classifier import ConfusionMatrix\n",
    "\n",
    "#Crio meu objeto v de visualização\n",
    "v = ConfusionMatrix(RandomForestClassifier())\n",
    "v.fit(X_treinamento, y_treinamento)\n",
    "v.score(X_teste, y_teste)\n",
    "v.poof()"
   ]
  },
  {
   "cell_type": "markdown",
   "metadata": {},
   "source": [
    "<h3>Verificando taxas de acerto e erro"
   ]
  },
  {
   "cell_type": "code",
   "execution_count": 22,
   "metadata": {},
   "outputs": [
    {
     "data": {
      "text/plain": [
       "0.7833333333333333"
      ]
     },
     "execution_count": 22,
     "metadata": {},
     "output_type": "execute_result"
    }
   ],
   "source": [
    "#Taxa de acerto\n",
    "taxa_acerto = accuracy_score(y_teste, previsoes)\n",
    "taxa_acerto"
   ]
  },
  {
   "cell_type": "code",
   "execution_count": 23,
   "metadata": {},
   "outputs": [
    {
     "data": {
      "text/plain": [
       "0.21666666666666667"
      ]
     },
     "execution_count": 23,
     "metadata": {},
     "output_type": "execute_result"
    }
   ],
   "source": [
    "#Taxa de Erro\n",
    "taxa_erro = 1 - taxa_acerto\n",
    "taxa_erro"
   ]
  },
  {
   "cell_type": "markdown",
   "metadata": {},
   "source": [
    "<h3>Explorando em detalhes o algoritmo Random Florest"
   ]
  },
  {
   "cell_type": "code",
   "execution_count": 24,
   "metadata": {},
   "outputs": [
    {
     "data": {
      "text/plain": [
       "[DecisionTreeClassifier(max_features='auto', random_state=1493457900),\n",
       " DecisionTreeClassifier(max_features='auto', random_state=1651998745),\n",
       " DecisionTreeClassifier(max_features='auto', random_state=372807818),\n",
       " DecisionTreeClassifier(max_features='auto', random_state=987620035),\n",
       " DecisionTreeClassifier(max_features='auto', random_state=1017434531),\n",
       " DecisionTreeClassifier(max_features='auto', random_state=1646108063),\n",
       " DecisionTreeClassifier(max_features='auto', random_state=2099052976),\n",
       " DecisionTreeClassifier(max_features='auto', random_state=280971805),\n",
       " DecisionTreeClassifier(max_features='auto', random_state=1437887651),\n",
       " DecisionTreeClassifier(max_features='auto', random_state=1004113703),\n",
       " DecisionTreeClassifier(max_features='auto', random_state=527835316),\n",
       " DecisionTreeClassifier(max_features='auto', random_state=636410106),\n",
       " DecisionTreeClassifier(max_features='auto', random_state=1769550205),\n",
       " DecisionTreeClassifier(max_features='auto', random_state=2010129646),\n",
       " DecisionTreeClassifier(max_features='auto', random_state=1895008430),\n",
       " DecisionTreeClassifier(max_features='auto', random_state=165073760),\n",
       " DecisionTreeClassifier(max_features='auto', random_state=1254289742),\n",
       " DecisionTreeClassifier(max_features='auto', random_state=2132042310),\n",
       " DecisionTreeClassifier(max_features='auto', random_state=1985696783),\n",
       " DecisionTreeClassifier(max_features='auto', random_state=494549562),\n",
       " DecisionTreeClassifier(max_features='auto', random_state=422304978),\n",
       " DecisionTreeClassifier(max_features='auto', random_state=576884847),\n",
       " DecisionTreeClassifier(max_features='auto', random_state=1577594646),\n",
       " DecisionTreeClassifier(max_features='auto', random_state=2014257286),\n",
       " DecisionTreeClassifier(max_features='auto', random_state=638140897),\n",
       " DecisionTreeClassifier(max_features='auto', random_state=123275965),\n",
       " DecisionTreeClassifier(max_features='auto', random_state=1353034953),\n",
       " DecisionTreeClassifier(max_features='auto', random_state=846825836),\n",
       " DecisionTreeClassifier(max_features='auto', random_state=2124662410),\n",
       " DecisionTreeClassifier(max_features='auto', random_state=329468152),\n",
       " DecisionTreeClassifier(max_features='auto', random_state=103364868),\n",
       " DecisionTreeClassifier(max_features='auto', random_state=1446597074),\n",
       " DecisionTreeClassifier(max_features='auto', random_state=562824231),\n",
       " DecisionTreeClassifier(max_features='auto', random_state=717561791),\n",
       " DecisionTreeClassifier(max_features='auto', random_state=625301524),\n",
       " DecisionTreeClassifier(max_features='auto', random_state=483180048),\n",
       " DecisionTreeClassifier(max_features='auto', random_state=466743936),\n",
       " DecisionTreeClassifier(max_features='auto', random_state=1517122668),\n",
       " DecisionTreeClassifier(max_features='auto', random_state=900187090),\n",
       " DecisionTreeClassifier(max_features='auto', random_state=1461826200),\n",
       " DecisionTreeClassifier(max_features='auto', random_state=135405405),\n",
       " DecisionTreeClassifier(max_features='auto', random_state=1613320398),\n",
       " DecisionTreeClassifier(max_features='auto', random_state=245050508),\n",
       " DecisionTreeClassifier(max_features='auto', random_state=256252377),\n",
       " DecisionTreeClassifier(max_features='auto', random_state=1013149740),\n",
       " DecisionTreeClassifier(max_features='auto', random_state=1731758672),\n",
       " DecisionTreeClassifier(max_features='auto', random_state=449495937),\n",
       " DecisionTreeClassifier(max_features='auto', random_state=1834697736),\n",
       " DecisionTreeClassifier(max_features='auto', random_state=1007205608),\n",
       " DecisionTreeClassifier(max_features='auto', random_state=1746727311),\n",
       " DecisionTreeClassifier(max_features='auto', random_state=332047165),\n",
       " DecisionTreeClassifier(max_features='auto', random_state=727238229),\n",
       " DecisionTreeClassifier(max_features='auto', random_state=1187544928),\n",
       " DecisionTreeClassifier(max_features='auto', random_state=1413435195),\n",
       " DecisionTreeClassifier(max_features='auto', random_state=2034304339),\n",
       " DecisionTreeClassifier(max_features='auto', random_state=1170180294),\n",
       " DecisionTreeClassifier(max_features='auto', random_state=337388849),\n",
       " DecisionTreeClassifier(max_features='auto', random_state=943044521),\n",
       " DecisionTreeClassifier(max_features='auto', random_state=241627730),\n",
       " DecisionTreeClassifier(max_features='auto', random_state=590298948),\n",
       " DecisionTreeClassifier(max_features='auto', random_state=232049657),\n",
       " DecisionTreeClassifier(max_features='auto', random_state=333822086),\n",
       " DecisionTreeClassifier(max_features='auto', random_state=1096796262),\n",
       " DecisionTreeClassifier(max_features='auto', random_state=356958534),\n",
       " DecisionTreeClassifier(max_features='auto', random_state=2049385750),\n",
       " DecisionTreeClassifier(max_features='auto', random_state=2049473545),\n",
       " DecisionTreeClassifier(max_features='auto', random_state=1151535182),\n",
       " DecisionTreeClassifier(max_features='auto', random_state=1044707421),\n",
       " DecisionTreeClassifier(max_features='auto', random_state=756240958),\n",
       " DecisionTreeClassifier(max_features='auto', random_state=1131784889),\n",
       " DecisionTreeClassifier(max_features='auto', random_state=170771153),\n",
       " DecisionTreeClassifier(max_features='auto', random_state=1881178845),\n",
       " DecisionTreeClassifier(max_features='auto', random_state=2041079989),\n",
       " DecisionTreeClassifier(max_features='auto', random_state=1115541863),\n",
       " DecisionTreeClassifier(max_features='auto', random_state=1917674321),\n",
       " DecisionTreeClassifier(max_features='auto', random_state=1104616809),\n",
       " DecisionTreeClassifier(max_features='auto', random_state=1446173305),\n",
       " DecisionTreeClassifier(max_features='auto', random_state=1428539737),\n",
       " DecisionTreeClassifier(max_features='auto', random_state=1413989606),\n",
       " DecisionTreeClassifier(max_features='auto', random_state=136958476),\n",
       " DecisionTreeClassifier(max_features='auto', random_state=771088077),\n",
       " DecisionTreeClassifier(max_features='auto', random_state=1458034340),\n",
       " DecisionTreeClassifier(max_features='auto', random_state=1274592976),\n",
       " DecisionTreeClassifier(max_features='auto', random_state=485607898),\n",
       " DecisionTreeClassifier(max_features='auto', random_state=1752075854),\n",
       " DecisionTreeClassifier(max_features='auto', random_state=1681629555),\n",
       " DecisionTreeClassifier(max_features='auto', random_state=1489469380),\n",
       " DecisionTreeClassifier(max_features='auto', random_state=874056838),\n",
       " DecisionTreeClassifier(max_features='auto', random_state=2124230129),\n",
       " DecisionTreeClassifier(max_features='auto', random_state=871147613),\n",
       " DecisionTreeClassifier(max_features='auto', random_state=1283033835),\n",
       " DecisionTreeClassifier(max_features='auto', random_state=550524641),\n",
       " DecisionTreeClassifier(max_features='auto', random_state=161359264),\n",
       " DecisionTreeClassifier(max_features='auto', random_state=2055116405),\n",
       " DecisionTreeClassifier(max_features='auto', random_state=1328551964),\n",
       " DecisionTreeClassifier(max_features='auto', random_state=362620713),\n",
       " DecisionTreeClassifier(max_features='auto', random_state=335665864),\n",
       " DecisionTreeClassifier(max_features='auto', random_state=1423592205),\n",
       " DecisionTreeClassifier(max_features='auto', random_state=645852802),\n",
       " DecisionTreeClassifier(max_features='auto', random_state=272369893)]"
      ]
     },
     "execution_count": 24,
     "metadata": {},
     "output_type": "execute_result"
    }
   ],
   "source": [
    "#Apresenta a 100 árvores utilizadas para classificar\n",
    "floresta.estimators_"
   ]
  },
  {
   "cell_type": "code",
   "execution_count": 25,
   "metadata": {},
   "outputs": [
    {
     "data": {
      "text/plain": [
       "DecisionTreeClassifier(max_features='auto', random_state=1651998745)"
      ]
     },
     "execution_count": 25,
     "metadata": {},
     "output_type": "execute_result"
    }
   ],
   "source": [
    "#Posso ver informações de apenas uma árvore\n",
    "floresta.estimators_[1] #Estou captando as informações da 2º árvore, no python os índices iniciam-se com o valor 0"
   ]
  },
  {
   "cell_type": "code",
   "execution_count": 21,
   "metadata": {},
   "outputs": [],
   "source": [
    "import graphviz\n",
    "from sklearn.tree import export_graphviz\n",
    "\n",
    "export_graphviz(floresta.estimators_[1], out_file = 'tree_randomForest.dot')\n",
    "#Entrar no site http://www.webgraphviz.com/ e colar o código gerado no arquivo salvo tree_randomForest.dot"
   ]
  }
 ],
 "metadata": {
  "kernelspec": {
   "display_name": "Python 3",
   "language": "python",
   "name": "python3"
  },
  "language_info": {
   "codemirror_mode": {
    "name": "ipython",
    "version": 3
   },
   "file_extension": ".py",
   "mimetype": "text/x-python",
   "name": "python",
   "nbconvert_exporter": "python",
   "pygments_lexer": "ipython3",
   "version": "3.8.5"
  }
 },
 "nbformat": 4,
 "nbformat_minor": 4
}
